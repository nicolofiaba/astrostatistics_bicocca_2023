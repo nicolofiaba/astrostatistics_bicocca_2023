{
 "cells": [
  {
   "cell_type": "markdown",
   "id": "4dc77196",
   "metadata": {},
   "source": [
    "## Lesson 2: \n",
    "### Exercise 2: Simulate the Monty Hall problem"
   ]
  },
  {
   "cell_type": "code",
   "execution_count": 7,
   "id": "9832d745",
   "metadata": {},
   "outputs": [],
   "source": [
    "import numpy as np\n",
    "from numpy import random\n",
    "from tqdm import tqdm"
   ]
  },
  {
   "cell_type": "code",
   "execution_count": 12,
   "id": "33a0f814",
   "metadata": {
    "scrolled": true
   },
   "outputs": [
    {
     "name": "stderr",
     "output_type": "stream",
     "text": [
      "100%|██████████████████████████████████| 10000/10000 [00:00<00:00, 15647.47it/s]"
     ]
    },
    {
     "name": "stdout",
     "output_type": "stream",
     "text": [
      "The winning probability of the conservative is:  33.51 %\n",
      "The winning probability of the switcher is:  67.5 %\n",
      "The winning probability of the newcomer is:  50.94 %\n"
     ]
    },
    {
     "name": "stderr",
     "output_type": "stream",
     "text": [
      "\n"
     ]
    }
   ],
   "source": [
    "array_dim = 3 #You can set the number of doors here\n",
    "doors = np.zeros(array_dim) #Array containing the n zeros as the number n of doors\n",
    "car_index = random.randint(0, array_dim) #Pick a random index and assign to that the value of 1. It's the car\n",
    "doors[car_index] = 1 \n",
    "\n",
    "cons_wins = 0\n",
    "switcher_wins = 0\n",
    "newcomer_wins = 0\n",
    "trials = 10000 #Number of simulations\n",
    "#I create an array with all the door indices\n",
    "index_range = np.arange(0, array_dim)\n",
    "\n",
    "for i in tqdm(range(0, trials)):\n",
    "    #Conservatory case\n",
    "    rand_choice_cons = random.choice(doors) #Random number in the pickable doors array\n",
    "    if rand_choice_cons == 1:\n",
    "        cons_wins += 1\n",
    "    #Switcher and newcomer case\n",
    "    rand_index = random.choice(index_range) #The player picks up one random door index\n",
    "    rand_choice_switcher = doors[rand_index] #This is the player's first choice\n",
    "    if rand_index != car_index:\n",
    "        goat_range_update = np.delete(index_range, [rand_index, car_index]) #I remove the indices of the first choice and the car, the presenter wants to pick a random goat door\n",
    "    else:\n",
    "        goat_range_update = np.delete(index_range, rand_index)\n",
    "    doors_newcomer = doors\n",
    "    doors_switcher = doors\n",
    "    remove_indices = np.zeros(len(doors)-2)\n",
    "    for j in range(len(doors)-2):\n",
    "        goat_index = random.choice(goat_range_update) #The presenter chooses one goat door\n",
    "        remove_indices[j] = goat_index #We put the selected index in an array\n",
    "        if len(goat_range_update) < 1:\n",
    "            break\n",
    "        goat_range_update = np.delete(goat_range_update, np.where(goat_range_update == goat_index))\n",
    "        \n",
    "    remove_indices_switcher = (np.append(remove_indices, rand_index)).astype(int)\n",
    "    remove_indices_newcomer = remove_indices.astype(int)\n",
    "    \n",
    "    doors_switcher = np.delete(doors, [i for i in remove_indices_switcher]) \n",
    "    doors_newcomer = np.delete(doors_newcomer, [i for i in remove_indices_newcomer])\n",
    "    \n",
    "    switcher_answer = doors_switcher\n",
    "    newcomer_answer = random.choice(doors_newcomer)\n",
    "    \n",
    "    if switcher_answer == 1:\n",
    "        switcher_wins += 1 \n",
    "    \n",
    "    if newcomer_answer == 1:\n",
    "        newcomer_wins += 1 \n",
    "    \n",
    "print(\"The winning probability of the conservative is: \", cons_wins/trials*100, \"%\")\n",
    "print(\"The winning probability of the switcher is: \", switcher_wins/trials*100, \"%\")\n",
    "print(\"The winning probability of the newcomer is: \", newcomer_wins/trials*100, \"%\")"
   ]
  },
  {
   "cell_type": "code",
   "execution_count": null,
   "id": "5eb8164d",
   "metadata": {},
   "outputs": [],
   "source": []
  }
 ],
 "metadata": {
  "kernelspec": {
   "display_name": "Python 3 (ipykernel)",
   "language": "python",
   "name": "python3"
  },
  "language_info": {
   "codemirror_mode": {
    "name": "ipython",
    "version": 3
   },
   "file_extension": ".py",
   "mimetype": "text/x-python",
   "name": "python",
   "nbconvert_exporter": "python",
   "pygments_lexer": "ipython3",
   "version": "3.10.12"
  }
 },
 "nbformat": 4,
 "nbformat_minor": 5
}
