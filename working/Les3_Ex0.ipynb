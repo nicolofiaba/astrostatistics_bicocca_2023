{
 "cells": [
  {
   "cell_type": "code",
   "execution_count": 1,
   "id": "e897f41b",
   "metadata": {
    "scrolled": false
   },
   "outputs": [
    {
     "name": "stdout",
     "output_type": "stream",
     "text": [
      "The sample mean of the dataset is:  2.9746134610220305\n",
      "The sample std of the dataset is:  1.9945090142914115\n"
     ]
    },
    {
     "data": {
      "image/png": "[encoded data removed]",
      "text/plain": [
       "<Figure size 800x500 with 1 Axes>"
      ]
     },
     "metadata": {},
     "output_type": "display_data"
    }
   ],
   "source": [
    "from scipy.stats import norm\n",
    "from pylab import plt\n",
    "import numpy as np\n",
    "from tqdm.notebook import tqdm\n",
    "\n",
    "N = 10000\n",
    "sigma = 2\n",
    "distG = norm(loc=3, scale=sigma)\n",
    "\n",
    "sample_data = distG.rvs(N)\n",
    "plt.hist(sample_data, bins=50);\n",
    "\n",
    "#Let's compute the sample mean of the data\n",
    "sample_mean = np.mean(sample_data)\n",
    "# Let's compute the sample standard deviation, using the numpy function np.std() == np.var()^(1/2)\n",
    "sample_std = np.std(sample_data)\n",
    "\n",
    "print(\"The sample mean of the dataset is: \", sample_mean)\n",
    "print(\"The sample std of the dataset is: \", sample_std)"
   ]
  },
  {
   "cell_type": "markdown",
   "id": "da827552",
   "metadata": {},
   "source": [
    "Now let's compute $\\bar{x}$ and $s$ many times to estimate their errors and check the known theoretical expressions. "
   ]
  },
  {
   "cell_type": "code",
   "execution_count": 15,
   "id": "30c99431",
   "metadata": {},
   "outputs": [
    {
     "data": {
      "application/vnd.jupyter.widget-view+json": {
       "model_id": "22774c5dc5054938b63c610a620e6414",
       "version_major": 2,
       "version_minor": 0
      },
      "text/plain": [
       "  0%|          | 0/1000 [00:00<?, ?it/s]"
      ]
     },
     "metadata": {},
     "output_type": "display_data"
    },
    {
     "data": {
      "application/vnd.jupyter.widget-view+json": {
       "model_id": "4ff9c994bdb643ebbc29c49d094fc674",
       "version_major": 2,
       "version_minor": 0
      },
      "text/plain": [
       "  0%|          | 0/1000 [00:00<?, ?it/s]"
      ]
     },
     "metadata": {},
     "output_type": "display_data"
    },
    {
     "name": "stdout",
     "output_type": "stream",
     "text": [
      "Estimated error on the mean is:  0.020265045085961397\n",
      "Estimated error on the std is:  0.014668772969050932\n",
      "Theoretical error on the mean is:  0.02\n",
      "Theoretical error on the std is:  0.014142842783549565\n"
     ]
    }
   ],
   "source": [
    "mean = np.array([np.mean(distG.rvs(N)) for i in tqdm(range(0, 1000))])\n",
    "std = np.array([np.std(distG.rvs(N)) for i in tqdm(range(0, 1000))])\n",
    "\n",
    "mean_err = np.std(mean)\n",
    "std_err = np.std(std)\n",
    "\n",
    "print(\"Estimated error on the mean is: \", mean_err)\n",
    "print(\"Estimated error on the std is: \", std_err)\n",
    "\n",
    "# NB: Computing the sample std with \"distG.std()\" and with \"np.std(sample_data)\" is equivalent.\n",
    "mean_th_err = distG.std()/np.sqrt(N)\n",
    "std_th_err = distG.std()/(np.sqrt(2*(N-1)))\n",
    "\n",
    "print(\"Theoretical error on the mean is: \", mean_th_err)\n",
    "print(\"Theoretical error on the std is: \", std_th_err)"
   ]
  },
  {
   "cell_type": "code",
   "execution_count": null,
   "id": "3b901c0e",
   "metadata": {},
   "outputs": [],
   "source": []
  }
 ],
 "metadata": {
  "kernelspec": {
   "display_name": "Python 3 (ipykernel)",
   "language": "python",
   "name": "python3"
  },
  "language_info": {
   "codemirror_mode": {
    "name": "ipython",
    "version": 3
   },
   "file_extension": ".py",
   "mimetype": "text/x-python",
   "name": "python",
   "nbconvert_exporter": "python",
   "pygments_lexer": "ipython3",
   "version": "3.10.12"
  }
 },
 "nbformat": 4,
 "nbformat_minor": 5
}
